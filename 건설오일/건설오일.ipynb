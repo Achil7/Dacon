{
 "cells": [
  {
   "cell_type": "markdown",
   "id": "68285814",
   "metadata": {},
   "source": [
    "# Import"
   ]
  },
  {
   "cell_type": "code",
   "execution_count": 1,
   "id": "65a7d6e7",
   "metadata": {},
   "outputs": [],
   "source": [
    "import numpy as np\n",
    "import pandas as pd\n",
    "import matplotlib.pyplot as plt\n",
    "import seaborn as sns\n",
    "\n",
    "import warnings\n",
    "warnings.filterwarnings(action='ignore') "
   ]
  },
  {
   "cell_type": "markdown",
   "id": "0e7d269e",
   "metadata": {},
   "source": [
    "# Hyperparameter setting"
   ]
  },
  {
   "cell_type": "code",
   "execution_count": 2,
   "id": "adaddaf1",
   "metadata": {},
   "outputs": [],
   "source": [
    "CFG = {\n",
    "    'EPOCHS': 30,\n",
    "    'LEARNING_RATE':1e-2,\n",
    "    'BATCH_SIZE':256,\n",
    "    'SEED':41\n",
    "}"
   ]
  },
  {
   "cell_type": "markdown",
   "id": "82ee4bfd",
   "metadata": {},
   "source": [
    "# Data Load"
   ]
  },
  {
   "cell_type": "code",
   "execution_count": 3,
   "id": "302c4ece",
   "metadata": {},
   "outputs": [],
   "source": [
    "train = pd.read_csv('./data/open/train.csv')\n",
    "test = pd.read_csv('./data/open/test.csv')"
   ]
  },
  {
   "cell_type": "markdown",
   "id": "4a3deb43",
   "metadata": {},
   "source": [
    "# Data Preprocessing\n",
    "1. 결측치 처리\n",
    "2. Train / Validation 분할\n",
    "3. Data label-encoding, scaling"
   ]
  },
  {
   "cell_type": "code",
   "execution_count": 4,
   "id": "8a2c62a1",
   "metadata": {},
   "outputs": [],
   "source": [
    "categorical_features = ['COMPONENT_ARBITRARY', 'YEAR']\n",
    "# Inference(실제 진단 환경)에 사용하는 컬럼\n",
    "test_stage_features = ['COMPONENT_ARBITRARY', 'ANONYMOUS_1', 'YEAR' , 'ANONYMOUS_2', 'AG', 'CO', 'CR', 'CU', 'FE',\n",
    "                       'H2O', 'MN', 'MO', 'NI', 'PQINDEX', 'TI', 'V', 'V40', 'ZN']"
   ]
  },
  {
   "cell_type": "code",
   "execution_count": 5,
   "id": "2751c7f6",
   "metadata": {},
   "outputs": [],
   "source": [
    "train = train.fillna(0)\n",
    "test = test.fillna(0)"
   ]
  },
  {
   "cell_type": "code",
   "execution_count": 6,
   "id": "0f4d0ea6",
   "metadata": {},
   "outputs": [
    {
     "data": {
      "text/plain": [
       "<AxesSubplot:>"
      ]
     },
     "execution_count": 6,
     "metadata": {},
     "output_type": "execute_result"
    },
    {
     "data": {
      "image/png": "[encoded data removed]",
      "text/plain": [
       "<Figure size 1080x360 with 1 Axes>"
      ]
     },
     "metadata": {
      "needs_background": "light"
     },
     "output_type": "display_data"
    }
   ],
   "source": [
    "# train.describe()\n",
    "plt.figure(figsize=(15,5))\n",
    "sns.boxplot(data = train)"
   ]
  },
  {
   "cell_type": "code",
   "execution_count": 7,
   "id": "ac1b8d58",
   "metadata": {},
   "outputs": [
    {
     "data": {
      "text/html": [
       "<div>\n",
       "<style scoped>\n",
       "    .dataframe tbody tr th:only-of-type {\n",
       "        vertical-align: middle;\n",
       "    }\n",
       "\n",
       "    .dataframe tbody tr th {\n",
       "        vertical-align: top;\n",
       "    }\n",
       "\n",
       "    .dataframe thead th {\n",
       "        text-align: right;\n",
       "    }\n",
       "</style>\n",
       "<table border=\"1\" class=\"dataframe\">\n",
       "  <thead>\n",
       "    <tr style=\"text-align: right;\">\n",
       "      <th></th>\n",
       "      <th>ID</th>\n",
       "      <th>COMPONENT_ARBITRARY</th>\n",
       "      <th>ANONYMOUS_1</th>\n",
       "      <th>YEAR</th>\n",
       "      <th>ANONYMOUS_2</th>\n",
       "      <th>AG</th>\n",
       "      <th>CO</th>\n",
       "      <th>CR</th>\n",
       "      <th>CU</th>\n",
       "      <th>FE</th>\n",
       "      <th>H2O</th>\n",
       "      <th>MN</th>\n",
       "      <th>MO</th>\n",
       "      <th>NI</th>\n",
       "      <th>PQINDEX</th>\n",
       "      <th>TI</th>\n",
       "      <th>V</th>\n",
       "      <th>V40</th>\n",
       "      <th>ZN</th>\n",
       "    </tr>\n",
       "  </thead>\n",
       "  <tbody>\n",
       "    <tr>\n",
       "      <th>0</th>\n",
       "      <td>TEST_0000</td>\n",
       "      <td>COMPONENT1</td>\n",
       "      <td>2192</td>\n",
       "      <td>2016</td>\n",
       "      <td>200</td>\n",
       "      <td>0</td>\n",
       "      <td>0</td>\n",
       "      <td>0</td>\n",
       "      <td>1</td>\n",
       "      <td>12</td>\n",
       "      <td>0.0</td>\n",
       "      <td>0</td>\n",
       "      <td>0</td>\n",
       "      <td>0</td>\n",
       "      <td>10</td>\n",
       "      <td>0</td>\n",
       "      <td>0</td>\n",
       "      <td>91.3</td>\n",
       "      <td>1091</td>\n",
       "    </tr>\n",
       "    <tr>\n",
       "      <th>1</th>\n",
       "      <td>TEST_0001</td>\n",
       "      <td>COMPONENT3</td>\n",
       "      <td>2794</td>\n",
       "      <td>2011</td>\n",
       "      <td>200</td>\n",
       "      <td>0</td>\n",
       "      <td>0</td>\n",
       "      <td>2</td>\n",
       "      <td>1</td>\n",
       "      <td>278</td>\n",
       "      <td>0.0</td>\n",
       "      <td>3</td>\n",
       "      <td>0</td>\n",
       "      <td>0</td>\n",
       "      <td>2732</td>\n",
       "      <td>1</td>\n",
       "      <td>0</td>\n",
       "      <td>126.9</td>\n",
       "      <td>12</td>\n",
       "    </tr>\n",
       "    <tr>\n",
       "      <th>2</th>\n",
       "      <td>TEST_0002</td>\n",
       "      <td>COMPONENT2</td>\n",
       "      <td>1982</td>\n",
       "      <td>2010</td>\n",
       "      <td>200</td>\n",
       "      <td>0</td>\n",
       "      <td>0</td>\n",
       "      <td>0</td>\n",
       "      <td>16</td>\n",
       "      <td>5</td>\n",
       "      <td>0.0</td>\n",
       "      <td>0</td>\n",
       "      <td>0</td>\n",
       "      <td>0</td>\n",
       "      <td>11</td>\n",
       "      <td>0</td>\n",
       "      <td>0</td>\n",
       "      <td>44.3</td>\n",
       "      <td>714</td>\n",
       "    </tr>\n",
       "    <tr>\n",
       "      <th>3</th>\n",
       "      <td>TEST_0003</td>\n",
       "      <td>COMPONENT3</td>\n",
       "      <td>1404</td>\n",
       "      <td>2009</td>\n",
       "      <td>200</td>\n",
       "      <td>0</td>\n",
       "      <td>0</td>\n",
       "      <td>3</td>\n",
       "      <td>4</td>\n",
       "      <td>163</td>\n",
       "      <td>0.0</td>\n",
       "      <td>4</td>\n",
       "      <td>3</td>\n",
       "      <td>0</td>\n",
       "      <td>8007</td>\n",
       "      <td>0</td>\n",
       "      <td>0</td>\n",
       "      <td>142.8</td>\n",
       "      <td>94</td>\n",
       "    </tr>\n",
       "    <tr>\n",
       "      <th>4</th>\n",
       "      <td>TEST_0004</td>\n",
       "      <td>COMPONENT2</td>\n",
       "      <td>8225</td>\n",
       "      <td>2013</td>\n",
       "      <td>200</td>\n",
       "      <td>0</td>\n",
       "      <td>0</td>\n",
       "      <td>0</td>\n",
       "      <td>6</td>\n",
       "      <td>13</td>\n",
       "      <td>0.0</td>\n",
       "      <td>0</td>\n",
       "      <td>0</td>\n",
       "      <td>0</td>\n",
       "      <td>16</td>\n",
       "      <td>0</td>\n",
       "      <td>0</td>\n",
       "      <td>63.4</td>\n",
       "      <td>469</td>\n",
       "    </tr>\n",
       "  </tbody>\n",
       "</table>\n",
       "</div>"
      ],
      "text/plain": [
       "          ID COMPONENT_ARBITRARY  ANONYMOUS_1  YEAR  ANONYMOUS_2  AG  CO  CR  \\\n",
       "0  TEST_0000          COMPONENT1         2192  2016          200   0   0   0   \n",
       "1  TEST_0001          COMPONENT3         2794  2011          200   0   0   2   \n",
       "2  TEST_0002          COMPONENT2         1982  2010          200   0   0   0   \n",
       "3  TEST_0003          COMPONENT3         1404  2009          200   0   0   3   \n",
       "4  TEST_0004          COMPONENT2         8225  2013          200   0   0   0   \n",
       "\n",
       "   CU   FE  H2O  MN  MO  NI  PQINDEX  TI  V    V40    ZN  \n",
       "0   1   12  0.0   0   0   0       10   0  0   91.3  1091  \n",
       "1   1  278  0.0   3   0   0     2732   1  0  126.9    12  \n",
       "2  16    5  0.0   0   0   0       11   0  0   44.3   714  \n",
       "3   4  163  0.0   4   3   0     8007   0  0  142.8    94  \n",
       "4   6   13  0.0   0   0   0       16   0  0   63.4   469  "
      ]
     },
     "execution_count": 7,
     "metadata": {},
     "output_type": "execute_result"
    }
   ],
   "source": [
    "test.head()"
   ]
  },
  {
   "cell_type": "code",
   "execution_count": 8,
   "id": "901e9d3f",
   "metadata": {},
   "outputs": [],
   "source": [
    "from sklearn.model_selection import train_test_split\n",
    "all_x = train.drop(['ID', 'Y_LABEL'], axis = 1)\n",
    "all_y = train['Y_LABEL']\n",
    "\n",
    "test = test.drop(['ID'], axis = 1)\n",
    "\n",
    "train_x, val_x, train_y, val_y = train_test_split(all_x, all_y, test_size=0.2, random_state=CFG['SEED'], stratify=all_y)"
   ]
  },
  {
   "cell_type": "code",
   "execution_count": 9,
   "id": "9cb4ad15",
   "metadata": {},
   "outputs": [
    {
     "data": {
      "text/plain": [
       "((11276, 52), (2819, 52), (11276,), (2819,))"
      ]
     },
     "execution_count": 9,
     "metadata": {},
     "output_type": "execute_result"
    }
   ],
   "source": [
    "train_x.shape , val_x.shape, train_y.shape, val_y.shape"
   ]
  },
  {
   "cell_type": "code",
   "execution_count": 10,
   "id": "3543b88a",
   "metadata": {},
   "outputs": [],
   "source": [
    "from sklearn.preprocessing import RobustScaler, LabelEncoder\n",
    "\n",
    "def get_values(value):\n",
    "    return value.values.reshape(-1, 1)\n",
    "\n",
    "for col in train_x.columns:\n",
    "    if col not in categorical_features:\n",
    "        scaler = RobustScaler()\n",
    "        train_x[col] = scaler.fit_transform(get_values(train_x[col]))\n",
    "        val_x[col] = scaler.transform(get_values(val_x[col]))\n",
    "        if col in test.columns:\n",
    "            test[col] = scaler.transform(get_values(test[col]))\n",
    "            \n",
    "le = LabelEncoder()\n",
    "for col in categorical_features:    \n",
    "    train_x[col] = le.fit_transform(train_x[col])\n",
    "    val_x[col] = le.transform(val_x[col])\n",
    "    if col in test.columns:\n",
    "        test[col] = le.transform(test[col])"
   ]
  },
  {
   "cell_type": "code",
   "execution_count": 11,
   "id": "60cb0841",
   "metadata": {},
   "outputs": [
    {
     "data": {
      "text/html": [
       "<div>\n",
       "<style scoped>\n",
       "    .dataframe tbody tr th:only-of-type {\n",
       "        vertical-align: middle;\n",
       "    }\n",
       "\n",
       "    .dataframe tbody tr th {\n",
       "        vertical-align: top;\n",
       "    }\n",
       "\n",
       "    .dataframe thead th {\n",
       "        text-align: right;\n",
       "    }\n",
       "</style>\n",
       "<table border=\"1\" class=\"dataframe\">\n",
       "  <thead>\n",
       "    <tr style=\"text-align: right;\">\n",
       "      <th></th>\n",
       "      <th>COMPONENT_ARBITRARY</th>\n",
       "      <th>ANONYMOUS_1</th>\n",
       "      <th>YEAR</th>\n",
       "      <th>ANONYMOUS_2</th>\n",
       "      <th>AG</th>\n",
       "      <th>CO</th>\n",
       "      <th>CR</th>\n",
       "      <th>CU</th>\n",
       "      <th>FE</th>\n",
       "      <th>H2O</th>\n",
       "      <th>MN</th>\n",
       "      <th>MO</th>\n",
       "      <th>NI</th>\n",
       "      <th>PQINDEX</th>\n",
       "      <th>TI</th>\n",
       "      <th>V</th>\n",
       "      <th>V40</th>\n",
       "      <th>ZN</th>\n",
       "    </tr>\n",
       "  </thead>\n",
       "  <tbody>\n",
       "    <tr>\n",
       "      <th>0</th>\n",
       "      <td>0</td>\n",
       "      <td>-0.014439</td>\n",
       "      <td>9</td>\n",
       "      <td>0.0</td>\n",
       "      <td>0.0</td>\n",
       "      <td>0.0</td>\n",
       "      <td>-0.333333</td>\n",
       "      <td>-0.1875</td>\n",
       "      <td>-0.232</td>\n",
       "      <td>0.0</td>\n",
       "      <td>-0.5</td>\n",
       "      <td>-0.142857</td>\n",
       "      <td>0.0</td>\n",
       "      <td>-0.105882</td>\n",
       "      <td>0.0</td>\n",
       "      <td>0.0</td>\n",
       "      <td>-0.305215</td>\n",
       "      <td>0.527290</td>\n",
       "    </tr>\n",
       "    <tr>\n",
       "      <th>1</th>\n",
       "      <td>2</td>\n",
       "      <td>0.265952</td>\n",
       "      <td>4</td>\n",
       "      <td>0.0</td>\n",
       "      <td>0.0</td>\n",
       "      <td>0.0</td>\n",
       "      <td>0.333333</td>\n",
       "      <td>-0.1875</td>\n",
       "      <td>1.896</td>\n",
       "      <td>0.0</td>\n",
       "      <td>1.0</td>\n",
       "      <td>-0.142857</td>\n",
       "      <td>0.0</td>\n",
       "      <td>15.905882</td>\n",
       "      <td>1.0</td>\n",
       "      <td>0.0</td>\n",
       "      <td>0.240798</td>\n",
       "      <td>-0.470860</td>\n",
       "    </tr>\n",
       "    <tr>\n",
       "      <th>2</th>\n",
       "      <td>1</td>\n",
       "      <td>-0.112250</td>\n",
       "      <td>3</td>\n",
       "      <td>0.0</td>\n",
       "      <td>0.0</td>\n",
       "      <td>0.0</td>\n",
       "      <td>-0.333333</td>\n",
       "      <td>0.7500</td>\n",
       "      <td>-0.288</td>\n",
       "      <td>0.0</td>\n",
       "      <td>-0.5</td>\n",
       "      <td>-0.142857</td>\n",
       "      <td>0.0</td>\n",
       "      <td>-0.100000</td>\n",
       "      <td>0.0</td>\n",
       "      <td>0.0</td>\n",
       "      <td>-1.026074</td>\n",
       "      <td>0.178538</td>\n",
       "    </tr>\n",
       "    <tr>\n",
       "      <th>3</th>\n",
       "      <td>2</td>\n",
       "      <td>-0.381463</td>\n",
       "      <td>2</td>\n",
       "      <td>0.0</td>\n",
       "      <td>0.0</td>\n",
       "      <td>0.0</td>\n",
       "      <td>0.666667</td>\n",
       "      <td>0.0000</td>\n",
       "      <td>0.976</td>\n",
       "      <td>0.0</td>\n",
       "      <td>1.5</td>\n",
       "      <td>0.285714</td>\n",
       "      <td>0.0</td>\n",
       "      <td>46.935294</td>\n",
       "      <td>0.0</td>\n",
       "      <td>0.0</td>\n",
       "      <td>0.484663</td>\n",
       "      <td>-0.395005</td>\n",
       "    </tr>\n",
       "    <tr>\n",
       "      <th>4</th>\n",
       "      <td>1</td>\n",
       "      <td>2.795529</td>\n",
       "      <td>6</td>\n",
       "      <td>0.0</td>\n",
       "      <td>0.0</td>\n",
       "      <td>0.0</td>\n",
       "      <td>-0.333333</td>\n",
       "      <td>0.1250</td>\n",
       "      <td>-0.224</td>\n",
       "      <td>0.0</td>\n",
       "      <td>-0.5</td>\n",
       "      <td>-0.142857</td>\n",
       "      <td>0.0</td>\n",
       "      <td>-0.070588</td>\n",
       "      <td>0.0</td>\n",
       "      <td>0.0</td>\n",
       "      <td>-0.733129</td>\n",
       "      <td>-0.048104</td>\n",
       "    </tr>\n",
       "  </tbody>\n",
       "</table>\n",
       "</div>"
      ],
      "text/plain": [
       "   COMPONENT_ARBITRARY  ANONYMOUS_1  YEAR  ANONYMOUS_2   AG   CO        CR  \\\n",
       "0                    0    -0.014439     9          0.0  0.0  0.0 -0.333333   \n",
       "1                    2     0.265952     4          0.0  0.0  0.0  0.333333   \n",
       "2                    1    -0.112250     3          0.0  0.0  0.0 -0.333333   \n",
       "3                    2    -0.381463     2          0.0  0.0  0.0  0.666667   \n",
       "4                    1     2.795529     6          0.0  0.0  0.0 -0.333333   \n",
       "\n",
       "       CU     FE  H2O   MN        MO   NI    PQINDEX   TI    V       V40  \\\n",
       "0 -0.1875 -0.232  0.0 -0.5 -0.142857  0.0  -0.105882  0.0  0.0 -0.305215   \n",
       "1 -0.1875  1.896  0.0  1.0 -0.142857  0.0  15.905882  1.0  0.0  0.240798   \n",
       "2  0.7500 -0.288  0.0 -0.5 -0.142857  0.0  -0.100000  0.0  0.0 -1.026074   \n",
       "3  0.0000  0.976  0.0  1.5  0.285714  0.0  46.935294  0.0  0.0  0.484663   \n",
       "4  0.1250 -0.224  0.0 -0.5 -0.142857  0.0  -0.070588  0.0  0.0 -0.733129   \n",
       "\n",
       "         ZN  \n",
       "0  0.527290  \n",
       "1 -0.470860  \n",
       "2  0.178538  \n",
       "3 -0.395005  \n",
       "4 -0.048104  "
      ]
     },
     "execution_count": 11,
     "metadata": {},
     "output_type": "execute_result"
    }
   ],
   "source": [
    "test.head()"
   ]
  },
  {
   "cell_type": "markdown",
   "id": "4c81bb35",
   "metadata": {},
   "source": [
    "#  지식증류(Knowledge Distillation)"
   ]
  },
  {
   "cell_type": "code",
   "execution_count": 12,
   "id": "f82b2ee8",
   "metadata": {},
   "outputs": [],
   "source": [
    "import tensorflow as tf\n",
    "from tensorflow import keras\n",
    "from tensorflow.keras import layers\n",
    "import tensorflow.keras"
   ]
  },
  {
   "cell_type": "code",
   "execution_count": 13,
   "id": "061a28ff",
   "metadata": {},
   "outputs": [],
   "source": [
    "# 교사 모델 생성\n",
    "teacher = keras.Sequential([\n",
    "    keras.Input(shape=(52,)),\n",
    "    layers.Dense(256),\n",
    "    layers.BatchNormalization(),\n",
    "    layers.LeakyReLU(),\n",
    "    layers.Dense(1024),\n",
    "    layers.BatchNormalization(),\n",
    "    layers.LeakyReLU(),\n",
    "    layers.Dense(256),\n",
    "    layers.BatchNormalization(),\n",
    "    layers.LeakyReLU(),\n",
    "    layers.Dense(1),\n",
    "    layers.BatchNormalization(),\n",
    "    layers.Activation(activation='sigmoid')],\n",
    "    name = 'teacher')"
   ]
  },
  {
   "cell_type": "code",
   "execution_count": 14,
   "id": "3a914b82",
   "metadata": {},
   "outputs": [],
   "source": [
    "# 학생 모델 생성\n",
    "student = keras.Sequential([\n",
    "    keras.Input(shape=(18,)),\n",
    "    layers.Dense(128),\n",
    "    layers.BatchNormalization(),\n",
    "    layers.LeakyReLU(),\n",
    "    layers.Dense(512),\n",
    "    layers.BatchNormalization(),\n",
    "    layers.LeakyReLU(),\n",
    "    layers.Dense(128),\n",
    "    layers.BatchNormalization(),\n",
    "    layers.LeakyReLU(),\n",
    "    layers.Dense(1),\n",
    "    layers.BatchNormalization(),\n",
    "    layers.Activation(activation='sigmoid')],\n",
    "    name = 'student')"
   ]
  },
  {
   "cell_type": "code",
   "execution_count": 15,
   "id": "ca198cfb",
   "metadata": {
    "scrolled": true
   },
   "outputs": [],
   "source": [
    "# # 교사모델 훈련\n",
    "# teacher.compile(\n",
    "#     optimizer=keras.optimizers.Adam()\n",
    "#     ,loss = keras.losses.binary_crossentropy\n",
    "#     ,metrics=['accuracy']\n",
    "# )\n",
    "# callback = [\n",
    "#     keras.callbacks.EarlyStopping(patience = 7),\n",
    "#     keras.callbacks.ModelCheckpoint('teacher.model.keras',save_best_only=True)\n",
    "# ]\n",
    "# teacher.fit(train_x,train_y, epochs=100, callbacks=callback, validation_data=(val_x,val_y))\n",
    "# teacher_loadmodel = keras.models.load_model('teacher.model.keras')\n",
    "# teacher_loadmodel.evaluate(val_x,val_y)"
   ]
  },
  {
   "cell_type": "code",
   "execution_count": 16,
   "id": "092e6067",
   "metadata": {},
   "outputs": [
    {
     "data": {
      "text/plain": [
       "((11276, 18), (11276,), (2819, 18), (2819,))"
      ]
     },
     "execution_count": 16,
     "metadata": {},
     "output_type": "execute_result"
    }
   ],
   "source": [
    "student_train_x =   train_x.loc[:,test_stage_features]\n",
    "student_val_x = val_x.loc[:,test_stage_features]\n",
    "student_train_x.shape, train_y.shape, student_val_x.shape, val_y.shape"
   ]
  },
  {
   "cell_type": "code",
   "execution_count": 17,
   "id": "f00835e0",
   "metadata": {
    "scrolled": true
   },
   "outputs": [
    {
     "name": "stdout",
     "output_type": "stream",
     "text": [
      "Epoch 1/100\n",
      "353/353 [==============================] - 2s 2ms/step - loss: 0.6829 - accuracy: 0.7011 - val_loss: 0.6099 - val_accuracy: 0.8663\n",
      "Epoch 2/100\n",
      "353/353 [==============================] - 1s 2ms/step - loss: 0.5386 - accuracy: 0.8186 - val_loss: 0.4837 - val_accuracy: 0.8943\n",
      "Epoch 3/100\n",
      "353/353 [==============================] - 1s 2ms/step - loss: 0.4465 - accuracy: 0.8882 - val_loss: 0.4291 - val_accuracy: 0.8996\n",
      "Epoch 4/100\n",
      "353/353 [==============================] - 1s 2ms/step - loss: 0.3898 - accuracy: 0.9101 - val_loss: 0.3749 - val_accuracy: 0.9092\n",
      "Epoch 5/100\n",
      "353/353 [==============================] - 1s 2ms/step - loss: 0.3531 - accuracy: 0.9130 - val_loss: 0.3431 - val_accuracy: 0.9124\n",
      "Epoch 6/100\n",
      "353/353 [==============================] - 1s 2ms/step - loss: 0.3284 - accuracy: 0.9145 - val_loss: 0.3212 - val_accuracy: 0.9131\n",
      "Epoch 7/100\n",
      "353/353 [==============================] - 1s 2ms/step - loss: 0.3108 - accuracy: 0.9147 - val_loss: 0.3114 - val_accuracy: 0.9120\n",
      "Epoch 8/100\n",
      "353/353 [==============================] - 1s 2ms/step - loss: 0.2991 - accuracy: 0.9147 - val_loss: 0.3011 - val_accuracy: 0.9134\n",
      "Epoch 9/100\n",
      "353/353 [==============================] - 1s 2ms/step - loss: 0.2916 - accuracy: 0.9147 - val_loss: 0.2958 - val_accuracy: 0.9120\n",
      "Epoch 10/100\n",
      "353/353 [==============================] - 1s 2ms/step - loss: 0.2868 - accuracy: 0.9147 - val_loss: 0.2919 - val_accuracy: 0.9127\n",
      "Epoch 11/100\n",
      "353/353 [==============================] - 1s 2ms/step - loss: 0.2825 - accuracy: 0.9147 - val_loss: 0.2867 - val_accuracy: 0.9138\n",
      "Epoch 12/100\n",
      "353/353 [==============================] - 1s 2ms/step - loss: 0.2802 - accuracy: 0.9147 - val_loss: 0.2862 - val_accuracy: 0.9138\n",
      "Epoch 13/100\n",
      "353/353 [==============================] - 1s 2ms/step - loss: 0.2784 - accuracy: 0.9147 - val_loss: 0.2854 - val_accuracy: 0.9131\n",
      "Epoch 14/100\n",
      "353/353 [==============================] - 1s 2ms/step - loss: 0.2772 - accuracy: 0.9147 - val_loss: 0.2857 - val_accuracy: 0.9134\n",
      "Epoch 15/100\n",
      "353/353 [==============================] - 1s 2ms/step - loss: 0.2759 - accuracy: 0.9147 - val_loss: 0.2816 - val_accuracy: 0.9142\n",
      "Epoch 16/100\n",
      "353/353 [==============================] - 1s 2ms/step - loss: 0.2762 - accuracy: 0.9147 - val_loss: 0.2836 - val_accuracy: 0.9127\n",
      "Epoch 17/100\n",
      "353/353 [==============================] - 1s 2ms/step - loss: 0.2752 - accuracy: 0.9148 - val_loss: 0.2836 - val_accuracy: 0.9134\n",
      "Epoch 18/100\n",
      "353/353 [==============================] - 1s 2ms/step - loss: 0.2744 - accuracy: 0.9148 - val_loss: 0.2844 - val_accuracy: 0.9134\n",
      "Epoch 19/100\n",
      "353/353 [==============================] - 1s 2ms/step - loss: 0.2747 - accuracy: 0.9146 - val_loss: 0.2821 - val_accuracy: 0.9134\n",
      "Epoch 20/100\n",
      "353/353 [==============================] - 1s 2ms/step - loss: 0.2744 - accuracy: 0.9147 - val_loss: 0.2834 - val_accuracy: 0.9134\n",
      "Epoch 21/100\n",
      "353/353 [==============================] - 1s 2ms/step - loss: 0.2734 - accuracy: 0.9148 - val_loss: 0.2872 - val_accuracy: 0.9127\n",
      "Epoch 22/100\n",
      "353/353 [==============================] - 1s 2ms/step - loss: 0.2736 - accuracy: 0.9149 - val_loss: 0.2841 - val_accuracy: 0.9138\n",
      "89/89 [==============================] - 0s 734us/step - loss: 0.2816 - accuracy: 0.9142\n"
     ]
    },
    {
     "data": {
      "text/plain": [
       "[0.2816060185432434, 0.9141539335250854]"
      ]
     },
     "execution_count": 17,
     "metadata": {},
     "output_type": "execute_result"
    }
   ],
   "source": [
    "# 학생모델 훈련\n",
    "student.compile(\n",
    "    optimizer=keras.optimizers.Adam()\n",
    "    ,loss = keras.losses.binary_crossentropy\n",
    "    ,metrics=['accuracy']\n",
    ")\n",
    "callback = [\n",
    "    keras.callbacks.EarlyStopping(patience = 7),\n",
    "    keras.callbacks.ModelCheckpoint('student.model.keras',save_best_only=True)\n",
    "]\n",
    "student.fit(student_train_x,train_y,epochs=100,callbacks=callback, validation_data=(student_val_x,val_y))\n",
    "student_loadmodel = keras.models.load_model('student.model.keras')\n",
    "student_loadmodel.evaluate(student_val_x,val_y)"
   ]
  },
  {
   "cell_type": "code",
   "execution_count": 18,
   "id": "dc398c17",
   "metadata": {},
   "outputs": [
    {
     "data": {
      "text/plain": [
       "array([[0.06184819],\n",
       "       [0.09532583],\n",
       "       [0.10016528],\n",
       "       ...,\n",
       "       [0.10194567],\n",
       "       [0.06289145],\n",
       "       [0.05312639]], dtype=float32)"
      ]
     },
     "execution_count": 18,
     "metadata": {},
     "output_type": "execute_result"
    }
   ],
   "source": [
    "preds = student_loadmodel.predict(test)\n",
    "preds"
   ]
  },
  {
   "cell_type": "code",
   "execution_count": 19,
   "id": "96dfe582",
   "metadata": {},
   "outputs": [
    {
     "data": {
      "text/plain": [
       "(array([0., 1.], dtype=float32), array([6031,   10], dtype=int64))"
      ]
     },
     "execution_count": 19,
     "metadata": {},
     "output_type": "execute_result"
    }
   ],
   "source": [
    "np.unique(np.round(preds),return_counts = True)"
   ]
  },
  {
   "cell_type": "code",
   "execution_count": 20,
   "id": "571767cb",
   "metadata": {},
   "outputs": [],
   "source": [
    "# submission1 파일 생성 및 제출\n",
    "submit = pd.read_csv('./data/open/sample_submission.csv')\n",
    "submit['Y_LABEL'] = np.round(preds)\n",
    "submit.to_csv('./submit1.csv', index=False)"
   ]
  },
  {
   "cell_type": "markdown",
   "id": "0be48727",
   "metadata": {},
   "source": [
    "### PCA를 이용해서 차원을 숙초하여 차수를 맞춤"
   ]
  },
  {
   "cell_type": "code",
   "execution_count": 21,
   "id": "8db46bc1",
   "metadata": {},
   "outputs": [],
   "source": [
    "from sklearn.decomposition import PCA\n",
    "pca = PCA(n_components = 18)\n",
    "pca_train_x = pca.fit_transform(train_x)\n",
    "pca_val_x = pca.fit_transform(val_x)"
   ]
  },
  {
   "cell_type": "code",
   "execution_count": 22,
   "id": "d0f2cc73",
   "metadata": {},
   "outputs": [
    {
     "data": {
      "text/plain": [
       "((11276, 18), (2819, 18), (6041, 18))"
      ]
     },
     "execution_count": 22,
     "metadata": {},
     "output_type": "execute_result"
    }
   ],
   "source": [
    "pca_train_x.shape, pca_val_x.shape, test.shape"
   ]
  },
  {
   "cell_type": "code",
   "execution_count": 23,
   "id": "587e9bf5",
   "metadata": {},
   "outputs": [],
   "source": [
    "from sklearn.ensemble import RandomForestClassifier\n",
    "from sklearn.model_selection import cross_val_score\n",
    "from sklearn.metrics import accuracy_score, precision_score, recall_score, f1_score"
   ]
  },
  {
   "cell_type": "code",
   "execution_count": 24,
   "id": "96ca1084",
   "metadata": {},
   "outputs": [],
   "source": [
    "# 랜덤 포레스트 모델 생성\n",
    "rf = RandomForestClassifier(n_estimators=10, random_state=2, n_jobs= -1)"
   ]
  },
  {
   "cell_type": "code",
   "execution_count": 25,
   "id": "c28ee2f9",
   "metadata": {},
   "outputs": [],
   "source": [
    "# 교차 검증 수행\n",
    "scores = cross_val_score(rf, pca_train_x, train_y, cv = 5)"
   ]
  },
  {
   "cell_type": "code",
   "execution_count": 26,
   "id": "dc982b3a",
   "metadata": {},
   "outputs": [
    {
     "name": "stdout",
     "output_type": "stream",
     "text": [
      "정확도 : [0.951 0.951 0.953 0.953 0.949]\n",
      "정확도 평균: 0.951\n"
     ]
    }
   ],
   "source": [
    "print(f'정확도 : {np.round(scores,3)}')\n",
    "print(f'정확도 평균: {np.mean(scores):.3f}')"
   ]
  },
  {
   "cell_type": "code",
   "execution_count": 27,
   "id": "40b7138d",
   "metadata": {},
   "outputs": [
    {
     "name": "stdout",
     "output_type": "stream",
     "text": [
      "정확도 : 0.8772614402270309\n",
      "정밀도 : 0.36099585062240663\n",
      "재현율 : 0.3118279569892473\n",
      "F1_Score : 0.33461538461538465\n"
     ]
    }
   ],
   "source": [
    "# 랜덤 포레스트\n",
    "rf.fit(pca_train_x, train_y)\n",
    "predict = rf.predict(pca_val_x)\n",
    "print(f\"정확도 : {accuracy_score(predict,val_y)}\")\n",
    "print(f\"정밀도 : {precision_score(predict,val_y)}\")\n",
    "print(f\"재현율 : {recall_score(predict,val_y)}\")\n",
    "print(f\"F1_Score : {f1_score(predict,val_y)}\")"
   ]
  },
  {
   "cell_type": "code",
   "execution_count": 28,
   "id": "9c504433",
   "metadata": {},
   "outputs": [
    {
     "name": "stdout",
     "output_type": "stream",
     "text": [
      "정확도 : 0.8850656261085491\n",
      "정밀도 : 0.34024896265560167\n",
      "재현율 : 0.3319838056680162\n",
      "F1_Score : 0.33606557377049184\n"
     ]
    }
   ],
   "source": [
    "# 의사결정 나무\n",
    "from sklearn.tree import DecisionTreeClassifier\n",
    "dtc = DecisionTreeClassifier(max_depth=3)\n",
    "dtc.fit(pca_train_x,train_y)\n",
    "predict = dtc.predict(pca_val_x)\n",
    "print(f\"정확도 : {accuracy_score(predict,val_y)}\")\n",
    "print(f\"정밀도 : {precision_score(predict,val_y)}\")\n",
    "print(f\"재현율 : {recall_score(predict,val_y)}\")\n",
    "print(f\"F1_Score : {f1_score(predict,val_y)}\")"
   ]
  },
  {
   "cell_type": "code",
   "execution_count": 29,
   "id": "7b9f2339",
   "metadata": {},
   "outputs": [
    {
     "name": "stdout",
     "output_type": "stream",
     "text": [
      "정확도 : 0.8854203618304364\n",
      "정밀도 : 0.34024896265560167\n",
      "재현율 : 0.3333333333333333\n",
      "F1_Score : 0.33675564681724846\n"
     ]
    }
   ],
   "source": [
    "# GBM\n",
    "from sklearn.ensemble import GradientBoostingClassifier\n",
    "gbc = GradientBoostingClassifier(max_depth=2, n_estimators=3, random_state=2, learning_rate=1.0)\n",
    "gbc.fit(pca_train_x,train_y)\n",
    "predict = gbc.predict(pca_val_x)\n",
    "print(f\"정확도 : {accuracy_score(predict,val_y)}\")\n",
    "print(f\"정밀도 : {precision_score(predict,val_y)}\")\n",
    "print(f\"재현율 : {recall_score(predict,val_y)}\")\n",
    "print(f\"F1_Score : {f1_score(predict,val_y)}\")"
   ]
  },
  {
   "cell_type": "code",
   "execution_count": 30,
   "id": "57a1c32d",
   "metadata": {},
   "outputs": [
    {
     "name": "stdout",
     "output_type": "stream",
     "text": [
      "Fitting 5 folds for each of 10 candidates, totalling 50 fits\n"
     ]
    },
    {
     "data": {
      "text/plain": [
       "RandomizedSearchCV(cv=5,\n",
       "                   estimator=GradientBoostingClassifier(learning_rate=1.0,\n",
       "                                                        max_depth=2,\n",
       "                                                        n_estimators=3,\n",
       "                                                        random_state=2),\n",
       "                   n_jobs=-1,\n",
       "                   param_distributions={'learning_rate': [0.05, 0.075, 0.1],\n",
       "                                        'n_estimators': [300, 500, 1000],\n",
       "                                        'subsample': [0.65, 0.7, 0.75]},\n",
       "                   random_state=2, scoring='neg_mean_squared_error', verbose=2)"
      ]
     },
     "execution_count": 30,
     "metadata": {},
     "output_type": "execute_result"
    }
   ],
   "source": [
    "# GBM 튜닝\n",
    "from sklearn.model_selection import RandomizedSearchCV\n",
    "\n",
    "params = {'subsample':[0.65,0.7,0.75],\n",
    "         'n_estimators':[300,500,1000],\n",
    "         'learning_rate':[0.05,0.075,0.1]}\n",
    "\n",
    "rand_reg = RandomizedSearchCV(gbc,params,n_iter=10,\n",
    "                              scoring='neg_mean_squared_error',\n",
    "                              cv = 5, n_jobs= -1, random_state=2, verbose=2)\n",
    "\n",
    "rand_reg.fit(pca_train_x,train_y)"
   ]
  },
  {
   "cell_type": "code",
   "execution_count": 31,
   "id": "375ddebb",
   "metadata": {},
   "outputs": [
    {
     "name": "stdout",
     "output_type": "stream",
     "text": [
      "정확도 : 0.884710890386662\n",
      "정밀도 : 0.34439834024896265\n",
      "재현율 : 0.332\n",
      "F1_Score : 0.33808553971486766\n"
     ]
    }
   ],
   "source": [
    "# rand_reg.best_estimator_\n",
    "predict = rand_reg.best_estimator_.predict(pca_val_x)\n",
    "print(f\"정확도 : {accuracy_score(predict,val_y)}\")\n",
    "print(f\"정밀도 : {precision_score(predict,val_y)}\")\n",
    "print(f\"재현율 : {recall_score(predict,val_y)}\")\n",
    "print(f\"F1_Score : {f1_score(predict,val_y)}\")"
   ]
  },
  {
   "cell_type": "code",
   "execution_count": 32,
   "id": "2820665f",
   "metadata": {},
   "outputs": [
    {
     "name": "stdout",
     "output_type": "stream",
     "text": [
      "Fitting 5 folds for each of 10 candidates, totalling 50 fits\n"
     ]
    },
    {
     "data": {
      "text/plain": [
       "RandomizedSearchCV(cv=5,\n",
       "                   estimator=XGBClassifier(base_score=None, booster=None,\n",
       "                                           callbacks=None,\n",
       "                                           colsample_bylevel=None,\n",
       "                                           colsample_bynode=None,\n",
       "                                           colsample_bytree=None,\n",
       "                                           early_stopping_rounds=None,\n",
       "                                           enable_categorical=False,\n",
       "                                           eval_metric=None, feature_types=None,\n",
       "                                           gamma=None, gpu_id=None,\n",
       "                                           grow_policy=None,\n",
       "                                           importance_type=None,\n",
       "                                           interaction_constraints=None,\n",
       "                                           learning_rate...\n",
       "                                           monotone_constraints=None,\n",
       "                                           n_estimators=100, n_jobs=None,\n",
       "                                           num_parallel_tree=None,\n",
       "                                           predictor=None, random_state=None, ...),\n",
       "                   n_jobs=-1,\n",
       "                   param_distributions={'gamma': [0, 0.01, 0.1, 0.5, 1, 2],\n",
       "                                        'learning_rate': [0.01, 0.05, 0.1, 0.2,\n",
       "                                                          0.3, 0.4, 0.5],\n",
       "                                        'max_depth': [2, 3, 5, 6, 8],\n",
       "                                        'n_estimators': [100, 200, 300, 400,\n",
       "                                                         800],\n",
       "                                        'subsample': [0.65, 0.7, 0.75]},\n",
       "                   random_state=2, scoring='neg_mean_squared_error', verbose=1)"
      ]
     },
     "execution_count": 32,
     "metadata": {},
     "output_type": "execute_result"
    }
   ],
   "source": [
    "# XGB\n",
    "from xgboost import XGBClassifier\n",
    "from sklearn.model_selection import RandomizedSearchCV\n",
    "\n",
    "xgb = XGBClassifier()\n",
    "\n",
    "# XGB튜닝\n",
    "params = {'subsample':[0.65, 0.7, 0.75],\n",
    "          'n_estimators':[100,200, 300, 400,800],\n",
    "          'learning_rate':[0.01,0.05,0.1,0.2,0.3,0.4,0.5],\n",
    "          'max_depth' : [2,3,5,6,8],\n",
    "          'gamma' : [0,0.01,0.1,0.5,1,2]\n",
    "         }\n",
    "rand_reg = RandomizedSearchCV(xgb,params,n_iter=10,scoring='neg_mean_squared_error'\n",
    "                              ,cv=5,n_jobs=-1,random_state=2,verbose=1)\n",
    "rand_reg.fit(pca_train_x,train_y)"
   ]
  },
  {
   "cell_type": "code",
   "execution_count": 33,
   "id": "2cb018ea",
   "metadata": {},
   "outputs": [
    {
     "name": "stdout",
     "output_type": "stream",
     "text": [
      "정확도 : 0.8857750975523235\n",
      "정밀도 : 0.34024896265560167\n",
      "재현율 : 0.3346938775510204\n",
      "F1_Score : 0.3374485596707819\n"
     ]
    }
   ],
   "source": [
    "predict = rand_reg.best_estimator_.predict(pca_val_x)\n",
    "print(f\"정확도 : {accuracy_score(predict,val_y)}\")\n",
    "print(f\"정밀도 : {precision_score(predict,val_y)}\")\n",
    "print(f\"재현율 : {recall_score(predict,val_y)}\")\n",
    "print(f\"F1_Score : {f1_score(predict,val_y)}\")"
   ]
  },
  {
   "cell_type": "code",
   "execution_count": 34,
   "id": "fb8fc779",
   "metadata": {},
   "outputs": [
    {
     "name": "stdout",
     "output_type": "stream",
     "text": [
      "정확도 : 0.8832919474991131\n",
      "정밀도 : 0.3070539419087137\n",
      "재현율 : 0.3135593220338983\n",
      "F1_Score : 0.310272536687631\n"
     ]
    }
   ],
   "source": [
    "# XGB Booster\n",
    "xgb = XGBClassifier(booster = 'gbtree', max_depth = 6, objective='binary:logistic',\n",
    "                    learning_rate = 0.1, n_estimators = 100, n_jobs= -1)\n",
    "xgb.fit(pca_train_x,train_y)\n",
    "predict = xgb.predict(pca_val_x)\n",
    "print(f\"정확도 : {accuracy_score(predict,val_y)}\")\n",
    "print(f\"정밀도 : {precision_score(predict,val_y)}\")\n",
    "print(f\"재현율 : {recall_score(predict,val_y)}\")\n",
    "print(f\"F1_Score : {f1_score(predict,val_y)}\")"
   ]
  },
  {
   "cell_type": "code",
   "execution_count": 35,
   "id": "b900e466",
   "metadata": {},
   "outputs": [
    {
     "name": "stdout",
     "output_type": "stream",
     "text": [
      "Fitting 5 folds for each of 10 candidates, totalling 50 fits\n"
     ]
    },
    {
     "data": {
      "text/plain": [
       "RandomizedSearchCV(cv=5,\n",
       "                   estimator=XGBClassifier(base_score=None, booster='gbtree',\n",
       "                                           callbacks=None,\n",
       "                                           colsample_bylevel=None,\n",
       "                                           colsample_bynode=None,\n",
       "                                           colsample_bytree=None,\n",
       "                                           early_stopping_rounds=None,\n",
       "                                           enable_categorical=False,\n",
       "                                           eval_metric=None, feature_types=None,\n",
       "                                           gamma=None, gpu_id=None,\n",
       "                                           grow_policy=None,\n",
       "                                           importance_type=None,\n",
       "                                           interaction_constraints=None,\n",
       "                                           learning_...\n",
       "                                           monotone_constraints=None,\n",
       "                                           n_estimators=100, n_jobs=-1,\n",
       "                                           num_parallel_tree=None,\n",
       "                                           predictor=None, random_state=None, ...),\n",
       "                   n_jobs=-1,\n",
       "                   param_distributions={'gamma': [0, 0.01, 0.1, 0.5, 1, 2],\n",
       "                                        'learning_rate': [0.01, 0.05, 0.1, 0.2,\n",
       "                                                          0.3, 0.4, 0.5],\n",
       "                                        'max_depth': [2, 3, 5, 6, 8],\n",
       "                                        'n_estimators': [100, 200, 300, 400,\n",
       "                                                         800],\n",
       "                                        'subsample': [0.65, 0.7, 0.75]},\n",
       "                   random_state=2, scoring='neg_mean_squared_error', verbose=1)"
      ]
     },
     "execution_count": 35,
     "metadata": {},
     "output_type": "execute_result"
    }
   ],
   "source": [
    "pca = PCA(n_components=1)\n",
    "pca_train_x =  pca.fit_transform(train_x)\n",
    "pca_val_x = pca.fit_transform(val_x)\n",
    "pca_test = pca.fit_transform(test)\n",
    "\n",
    "xgb = XGBClassifier(booster = 'gbtree', max_depth = 6, objective='binary:logistic',\n",
    "                    learning_rate = 0.1, n_estimators = 100, n_jobs= -1)\n",
    "\n",
    "params = {'subsample':[0.65, 0.7, 0.75],\n",
    "          'n_estimators':[100,200, 300, 400,800],\n",
    "          'learning_rate':[0.01,0.05,0.1,0.2,0.3,0.4,0.5],\n",
    "          'max_depth' : [2,3,5,6,8],\n",
    "          'gamma' : [0,0.01,0.1,0.5,1,2]\n",
    "         }\n",
    "\n",
    "rand_reg = RandomizedSearchCV(xgb,params,n_iter=10,scoring='neg_mean_squared_error'\n",
    "                              ,cv=5,n_jobs=-1,random_state=2,verbose=1)\n",
    "rand_reg.fit(pca_train_x,train_y)"
   ]
  },
  {
   "cell_type": "code",
   "execution_count": 36,
   "id": "06ffb375",
   "metadata": {},
   "outputs": [
    {
     "name": "stdout",
     "output_type": "stream",
     "text": [
      "정확도 : 0.9145086910251863\n",
      "정밀도 : 0.0\n",
      "재현율 : 0.0\n",
      "F1_Score : 0.0\n"
     ]
    }
   ],
   "source": [
    "predict = rand_reg.best_estimator_.predict(pca_val_x)\n",
    "print(f\"정확도 : {accuracy_score(predict,val_y)}\")\n",
    "print(f\"정밀도 : {precision_score(predict,val_y)}\")\n",
    "print(f\"재현율 : {recall_score(predict,val_y)}\")\n",
    "print(f\"F1_Score : {f1_score(predict,val_y)}\")"
   ]
  },
  {
   "cell_type": "code",
   "execution_count": 37,
   "id": "3ff69a45",
   "metadata": {},
   "outputs": [
    {
     "name": "stdout",
     "output_type": "stream",
     "text": [
      "Fitting 5 folds for each of 10 candidates, totalling 50 fits\n"
     ]
    },
    {
     "data": {
      "text/plain": [
       "RandomizedSearchCV(cv=5,\n",
       "                   estimator=XGBClassifier(base_score=None, booster='gbtree',\n",
       "                                           callbacks=None,\n",
       "                                           colsample_bylevel=None,\n",
       "                                           colsample_bynode=None,\n",
       "                                           colsample_bytree=None,\n",
       "                                           early_stopping_rounds=None,\n",
       "                                           enable_categorical=False,\n",
       "                                           eval_metric=None, feature_types=None,\n",
       "                                           gamma=None, gpu_id=None,\n",
       "                                           grow_policy=None,\n",
       "                                           importance_type=None,\n",
       "                                           interaction_constraints=None,\n",
       "                                           learning_...\n",
       "                                           monotone_constraints=None,\n",
       "                                           n_estimators=100, n_jobs=-1,\n",
       "                                           num_parallel_tree=None,\n",
       "                                           predictor=None, random_state=None, ...),\n",
       "                   n_jobs=-1,\n",
       "                   param_distributions={'gamma': [0, 0.01, 0.1, 0.5, 1, 2],\n",
       "                                        'learning_rate': [0.01, 0.05, 0.1, 0.2,\n",
       "                                                          0.3, 0.4, 0.5],\n",
       "                                        'max_depth': [2, 3, 5, 6, 8],\n",
       "                                        'n_estimators': [100, 200, 300, 400,\n",
       "                                                         800],\n",
       "                                        'subsample': [0.65, 0.7, 0.75]},\n",
       "                   random_state=2, scoring='neg_mean_squared_error', verbose=1)"
      ]
     },
     "execution_count": 37,
     "metadata": {},
     "output_type": "execute_result"
    }
   ],
   "source": [
    "xgb = XGBClassifier(booster='gbtree', max_depth=6,objective='binary:logistic'\n",
    "              ,learning_rate=0.1, n_estimators=100,n_jobs=-1)\n",
    "params = {'subsample':[0.65, 0.7, 0.75],\n",
    "          'n_estimators':[100,200, 300, 400,800],\n",
    "          'learning_rate':[0.01,0.05,0.1,0.2,0.3,0.4,0.5],\n",
    "          'max_depth' : [2,3,5,6,8],\n",
    "          'gamma' : [0,0.01,0.1,0.5,1,2]\n",
    "         }\n",
    "rand_reg = RandomizedSearchCV(xgb,params,n_iter=10,scoring='neg_mean_squared_error'\n",
    "                              ,cv=5,n_jobs=-1,random_state=2,verbose=1)\n",
    "rand_reg.fit(train_x,train_y)"
   ]
  },
  {
   "cell_type": "code",
   "execution_count": 38,
   "id": "d04738fd",
   "metadata": {},
   "outputs": [
    {
     "name": "stdout",
     "output_type": "stream",
     "text": [
      "정확률 : 0.952465413267116\n",
      "정밀도 : 0.4979253112033195\n",
      "재현율 : 0.9022556390977443\n",
      "f1_score : 0.6417112299465241\n"
     ]
    }
   ],
   "source": [
    "predict = rand_reg.best_estimator_.predict(val_x)\n",
    "print(f\"정확률 : {accuracy_score(predict,val_y)}\")\n",
    "print(f\"정밀도 : {precision_score(predict,val_y)}\")\n",
    "print(f\"재현율 : {recall_score(predict,val_y)}\")\n",
    "print(f\"f1_score : {f1_score(predict,val_y)}\")"
   ]
  },
  {
   "cell_type": "code",
   "execution_count": 39,
   "id": "4ddd73f6",
   "metadata": {},
   "outputs": [
    {
     "data": {
      "text/plain": [
       "((11276, 52), (6041, 18))"
      ]
     },
     "execution_count": 39,
     "metadata": {},
     "output_type": "execute_result"
    }
   ],
   "source": [
    "train_x.shape, test.shape"
   ]
  },
  {
   "cell_type": "code",
   "execution_count": 40,
   "id": "a739ba12",
   "metadata": {},
   "outputs": [
    {
     "data": {
      "text/plain": [
       "<BarContainer object of 52 artists>"
      ]
     },
     "execution_count": 40,
     "metadata": {},
     "output_type": "execute_result"
    },
    {
     "data": {
      "image/png": "[encoded data removed]",
      "text/plain": [
       "<Figure size 432x288 with 1 Axes>"
      ]
     },
     "metadata": {
      "needs_background": "light"
     },
     "output_type": "display_data"
    }
   ],
   "source": [
    "plt.bar(x = range(1,53), height = rand_reg.best_estimator_.feature_importances_)"
   ]
  },
  {
   "cell_type": "code",
   "execution_count": 41,
   "id": "939f155d",
   "metadata": {},
   "outputs": [
    {
     "data": {
      "text/plain": [
       "array([ 6,  2,  1, 10,  8,  7, 11, 39, 51, 21, 38, 28, 37, 19,  5, 50, 27,\n",
       "        4], dtype=int64)"
      ]
     },
     "execution_count": 41,
     "metadata": {},
     "output_type": "execute_result"
    }
   ],
   "source": [
    "sort_index = np.argsort(rand_reg.best_estimator_.feature_importances_)  # 오름차순 정렬\n",
    "sort_index[::-1][:18] # 내림차순 정렬 후, 상위 18개 추출"
   ]
  },
  {
   "cell_type": "code",
   "execution_count": 42,
   "id": "f934d56a",
   "metadata": {},
   "outputs": [
    {
     "name": "stdout",
     "output_type": "stream",
     "text": [
      "Fitting 5 folds for each of 10 candidates, totalling 50 fits\n",
      "정확도 : 0.952465413267116\n",
      "정밀도 : 0.4979253112033195\n",
      "재현율 : 0.9022556390977443\n",
      "F1_Score : 0.6417112299465241\n"
     ]
    }
   ],
   "source": [
    "temp_x = train_x.iloc[:,sort_index[::-1][:18]]\n",
    "temp_val = val_x.iloc[:,sort_index[::-1][:18]]\n",
    "\n",
    "xgb = XGBClassifier(booster = 'gbtree', max_depth = 6, objective='binary:logistic',\n",
    "                    learning_rate = 0.1, n_estimators = 100, n_jobs= -1)\n",
    "\n",
    "params = {'subsample' : [0.65, 0.7, 0.75],\n",
    "         'n_estimators' : [100, 200, 300, 400, 800],\n",
    "         'learning_rate' : [0.01, 0.05, 0.1, 0.2, 0.3, 0.4, 0.5],\n",
    "         'max_depth' : [2, 3, 5, 6, 8],\n",
    "         'gamma' : [0, 0.01, 0.1, 0.5, 1, 2]\n",
    "         }\n",
    "\n",
    "rand_reg = RandomizedSearchCV(xgb,params,n_iter=10,\n",
    "                              scoring='neg_mean_squared_error',\n",
    "                              cv = 5, n_jobs= -1, random_state=2, verbose=1)\n",
    "\n",
    "rand_reg.fit(temp_x,train_y)\n",
    "\n",
    "predict = rand_reg.best_estimator_.predict(temp_val)\n",
    "print(f\"정확도 : {accuracy_score(predict,val_y)}\")\n",
    "print(f\"정밀도 : {precision_score(predict,val_y)}\")\n",
    "print(f\"재현율 : {recall_score(predict,val_y)}\")\n",
    "print(f\"F1_Score : {f1_score(predict,val_y)}\")"
   ]
  },
  {
   "cell_type": "code",
   "execution_count": 43,
   "id": "81f7488e",
   "metadata": {},
   "outputs": [
    {
     "name": "stderr",
     "output_type": "stream",
     "text": [
      "100%|██████████████████████████████████████████████████████████████████████████████████| 10/10 [00:02<00:00,  3.87it/s]\n"
     ]
    }
   ],
   "source": [
    "from tqdm import tqdm\n",
    "import time\n",
    "\n",
    "for i in tqdm([1,2,3,4,5,6,7,8,9,10]):\n",
    "    time.sleep(0.25)"
   ]
  }
 ],
 "metadata": {
  "kernelspec": {
   "display_name": "Python 3 (ipykernel)",
   "language": "python",
   "name": "python3"
  },
  "language_info": {
   "codemirror_mode": {
    "name": "ipython",
    "version": 3
   },
   "file_extension": ".py",
   "mimetype": "text/x-python",
   "name": "python",
   "nbconvert_exporter": "python",
   "pygments_lexer": "ipython3",
   "version": "3.9.7"
  }
 },
 "nbformat": 4,
 "nbformat_minor": 5
}
