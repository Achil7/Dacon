{
 "cells": [
  {
   "cell_type": "code",
   "execution_count": 1,
   "id": "00bb14Ohq8vj",
   "metadata": {
    "colab": {
     "base_uri": "https://localhost:8080/"
    },
    "id": "00bb14Ohq8vj",
    "outputId": "0842fc87-d710-45d7-95e5-96863869a24e"
   },
   "outputs": [
    {
     "name": "stdout",
     "output_type": "stream",
     "text": [
      "Mounted at /content/drive\n"
     ]
    }
   ],
   "source": [
    "from google.colab import drive\n",
    "drive.mount('/content/drive')"
   ]
  },
  {
   "cell_type": "code",
   "execution_count": 1,
   "id": "f68fa985",
   "metadata": {
    "id": "f68fa985"
   },
   "outputs": [],
   "source": [
    "import pandas as pd\n",
    "import numpy as np\n",
    "import tensorflow as tf\n",
    "from tensorflow.keras.layers import Conv2D,MaxPooling2D,Dropout,Flatten,Dense"
   ]
  },
  {
   "cell_type": "code",
   "execution_count": 13,
   "id": "d4a87a54",
   "metadata": {
    "colab": {
     "base_uri": "https://localhost:8080/"
    },
    "id": "d4a87a54",
    "outputId": "aece123f-559e-41bc-a7b8-6ddc93fb0852"
   },
   "outputs": [
    {
     "data": {
      "text/plain": [
       "((45000, 784), (45000, 10))"
      ]
     },
     "execution_count": 13,
     "metadata": {},
     "output_type": "execute_result"
    }
   ],
   "source": [
    "# train 데이터 로드\n",
    "train_df = pd.read_csv('/content/drive/MyDrive/Colab Notebooks/데이터/mnist/train.csv',index_col=0)\n",
    "x_train = train_df.iloc[:,1:]\n",
    "y_train = train_df.iloc[:,0]\n",
    "x_train = x_train.astype('float32')/255.     # 데이터 정규화\n",
    "y_train = tf.keras.utils.to_categorical(y_train,10)\n",
    "\n",
    "from sklearn.model_selection import train_test_split\n",
    "x_train,x_test, y_train, y_test = train_test_split(x_train,y_train,random_state = 32)\n",
    "x_train.shape, y_train.shape"
   ]
  },
  {
   "cell_type": "code",
   "execution_count": 14,
   "id": "640ea680",
   "metadata": {
    "id": "640ea680"
   },
   "outputs": [],
   "source": [
    "from tensorflow.keras.applications.resnet50 import  ResNet50\n",
    "resnet50 = ResNet50(include_top=False,weights='imagenet', input_shape=(32,32,3))"
   ]
  },
  {
   "cell_type": "code",
   "execution_count": null,
   "id": "15522883",
   "metadata": {
    "id": "15522883"
   },
   "outputs": [],
   "source": [
    "resnet50.summary()"
   ]
  },
  {
   "cell_type": "code",
   "execution_count": 16,
   "id": "830fcff9",
   "metadata": {
    "id": "830fcff9"
   },
   "outputs": [],
   "source": [
    "inputs = tf.keras.Input(shape=(28,28,1))\n",
    "x = Conv2D(32,3,activation='relu')(inputs)\n",
    "x = tf.keras.layers.BatchNormalization()(x)\n",
    "x = MaxPooling2D(2)(x)\n",
    "x = Conv2D(16,3,activation='relu')(x)\n",
    "x = tf.keras.layers.BatchNormalization()(x)\n",
    "x = MaxPooling2D(2)(x)\n",
    "x = Conv2D(32,3,activation='relu')(x)\n",
    "x = tf.keras.layers.BatchNormalization()(x)\n",
    "x = MaxPooling2D(2)(x)\n",
    "x = Flatten()(x)\n",
    "x = Dense(64,activation='relu')(x)\n",
    "outputs = Dense(10,activation='softmax')(x)"
   ]
  },
  {
   "cell_type": "code",
   "execution_count": 18,
   "id": "5c9f6d51",
   "metadata": {
    "colab": {
     "base_uri": "https://localhost:8080/"
    },
    "id": "5c9f6d51",
    "outputId": "14cd94d1-2b65-4bdd-ba7a-814eb81bfa66"
   },
   "outputs": [
    {
     "name": "stdout",
     "output_type": "stream",
     "text": [
      "Epoch 1/200\n",
      "358/358 [==============================] - 3s 8ms/step - loss: 0.0017 - acc: 0.9895 - val_loss: 0.0032 - val_acc: 0.9792\n",
      "Epoch 2/200\n",
      "358/358 [==============================] - 2s 6ms/step - loss: 0.0016 - acc: 0.9905 - val_loss: 0.0028 - val_acc: 0.9819\n",
      "Epoch 3/200\n",
      "358/358 [==============================] - 2s 6ms/step - loss: 0.0015 - acc: 0.9912 - val_loss: 0.0038 - val_acc: 0.9761\n",
      "Epoch 4/200\n",
      "358/358 [==============================] - 2s 6ms/step - loss: 0.0013 - acc: 0.9922 - val_loss: 0.0033 - val_acc: 0.9793\n",
      "Epoch 5/200\n",
      "358/358 [==============================] - 2s 6ms/step - loss: 0.0010 - acc: 0.9937 - val_loss: 0.0031 - val_acc: 0.9801\n",
      "Epoch 6/200\n",
      "358/358 [==============================] - 2s 6ms/step - loss: 0.0011 - acc: 0.9939 - val_loss: 0.0032 - val_acc: 0.9802\n",
      "Epoch 7/200\n",
      "358/358 [==============================] - 2s 6ms/step - loss: 9.4335e-04 - acc: 0.9946 - val_loss: 0.0035 - val_acc: 0.9780\n"
     ]
    }
   ],
   "source": [
    "model = tf.keras.Model(inputs,outputs)\n",
    "callback = [\n",
    "    tf.keras.callbacks.EarlyStopping(patience=5)\n",
    "]\n",
    "model.compile(loss='mse',\n",
    "              optimizer='adam',metrics=['acc'])\n",
    "x_train_reshape = x_train.to_numpy().reshape(-1,28,28,1)\n",
    "x_test_reshape = x_test.to_numpy().reshape(-1,28,28,1)\n",
    "hisy = model.fit(x_train_reshape,y_train, batch_size = 126, epochs = 200, callbacks = callback, validation_data = (x_test_reshape,y_test))"
   ]
  },
  {
   "cell_type": "code",
   "execution_count": 35,
   "id": "4581b381",
   "metadata": {
    "id": "4581b381"
   },
   "outputs": [],
   "source": [
    "# 모델이 완성되었으니 제공된 test를 돌려서 제출\n",
    "test_df = pd.read_csv('/content/drive/MyDrive/Colab Notebooks/데이터/mnist/test.csv',index_col=0)\n",
    "x_test = x_test.astype('float32')/255.   # 데이터 정규화"
   ]
  },
  {
   "cell_type": "code",
   "execution_count": 36,
   "id": "FmiFoW33tsRd",
   "metadata": {
    "colab": {
     "base_uri": "https://localhost:8080/"
    },
    "id": "FmiFoW33tsRd",
    "outputId": "33cc2dcd-fe10-44ff-aa7f-eaa040bbe953"
   },
   "outputs": [
    {
     "data": {
      "text/plain": [
       "(10000, 28, 28, 1)"
      ]
     },
     "execution_count": 36,
     "metadata": {},
     "output_type": "execute_result"
    }
   ],
   "source": [
    "test_reshape = test_df.to_numpy().reshape(-1,28,28,1)\n",
    "test_reshape.shape"
   ]
  },
  {
   "cell_type": "code",
   "execution_count": 37,
   "id": "cdYaeEmwvelm",
   "metadata": {
    "colab": {
     "base_uri": "https://localhost:8080/"
    },
    "id": "cdYaeEmwvelm",
    "outputId": "b4c73bb2-7e6e-465b-f658-23fb8939501d"
   },
   "outputs": [
    {
     "data": {
      "text/plain": [
       "10000"
      ]
     },
     "execution_count": 37,
     "metadata": {},
     "output_type": "execute_result"
    }
   ],
   "source": [
    "len(test_df)"
   ]
  },
  {
   "cell_type": "code",
   "execution_count": 39,
   "id": "Yj1YKU8mvHNM",
   "metadata": {
    "colab": {
     "base_uri": "https://localhost:8080/"
    },
    "id": "Yj1YKU8mvHNM",
    "outputId": "12a9f28a-1531-4ef6-e0d4-43b7a9b9a625"
   },
   "outputs": [
    {
     "name": "stdout",
     "output_type": "stream",
     "text": [
      "313/313 [==============================] - 1s 2ms/step\n"
     ]
    }
   ],
   "source": [
    "result = model.predict(test_reshape)"
   ]
  },
  {
   "cell_type": "code",
   "execution_count": 40,
   "id": "QD7Urrq_vAqL",
   "metadata": {
    "id": "QD7Urrq_vAqL"
   },
   "outputs": [],
   "source": [
    "submission_df = pd.read_csv('/content/drive/MyDrive/Colab Notebooks/데이터/mnist/sample_submission.csv',index_col = 0)"
   ]
  },
  {
   "cell_type": "code",
   "execution_count": 41,
   "id": "wRau5cAvvix4",
   "metadata": {
    "id": "wRau5cAvvix4"
   },
   "outputs": [],
   "source": [
    "submission_df['label'] = [np.argmax(i) for i in result]"
   ]
  },
  {
   "cell_type": "code",
   "execution_count": 43,
   "id": "n-wowWX9wHbi",
   "metadata": {
    "id": "n-wowWX9wHbi"
   },
   "outputs": [],
   "source": [
    "submission_df.to_csv('submission.csv')"
   ]
  },
  {
   "cell_type": "markdown",
   "id": "7d95b9dc",
   "metadata": {},
   "source": [
    "---"
   ]
  },
  {
   "cell_type": "code",
   "execution_count": 6,
   "id": "f79ecfc7",
   "metadata": {},
   "outputs": [],
   "source": [
    "# train_df = pd.read_csv('/content/drive/MyDrive/Colab Notebooks/데이터/mnist/train.csv',index_col=0)\n",
    "train_df = pd.read_csv('./mnist/train.csv')\n",
    "x_train = train_df.iloc[:,1:]\n",
    "y_train = train_df.iloc[:,0]"
   ]
  },
  {
   "cell_type": "code",
   "execution_count": 7,
   "id": "786eaa44",
   "metadata": {},
   "outputs": [
    {
     "name": "stdout",
     "output_type": "stream",
     "text": [
      "(60000, 785)\n",
      "(60000, 5626)\n"
     ]
    },
    {
     "data": {
      "text/html": [
       "<div>\n",
       "<style scoped>\n",
       "    .dataframe tbody tr th:only-of-type {\n",
       "        vertical-align: middle;\n",
       "    }\n",
       "\n",
       "    .dataframe tbody tr th {\n",
       "        vertical-align: top;\n",
       "    }\n",
       "\n",
       "    .dataframe thead th {\n",
       "        text-align: right;\n",
       "    }\n",
       "</style>\n",
       "<table border=\"1\" class=\"dataframe\">\n",
       "  <thead>\n",
       "    <tr style=\"text-align: right;\">\n",
       "      <th></th>\n",
       "      <th>label</th>\n",
       "      <th>px1</th>\n",
       "      <th>px2</th>\n",
       "      <th>px3</th>\n",
       "      <th>px4</th>\n",
       "      <th>px5</th>\n",
       "      <th>px6</th>\n",
       "      <th>px7</th>\n",
       "      <th>px8</th>\n",
       "      <th>px9</th>\n",
       "      <th>...</th>\n",
       "      <th>4831</th>\n",
       "      <th>4832</th>\n",
       "      <th>4833</th>\n",
       "      <th>4834</th>\n",
       "      <th>4835</th>\n",
       "      <th>4836</th>\n",
       "      <th>4837</th>\n",
       "      <th>4838</th>\n",
       "      <th>4839</th>\n",
       "      <th>4840</th>\n",
       "    </tr>\n",
       "  </thead>\n",
       "  <tbody>\n",
       "    <tr>\n",
       "      <th>0</th>\n",
       "      <td>5</td>\n",
       "      <td>0</td>\n",
       "      <td>0</td>\n",
       "      <td>0</td>\n",
       "      <td>0</td>\n",
       "      <td>0</td>\n",
       "      <td>0</td>\n",
       "      <td>0</td>\n",
       "      <td>0</td>\n",
       "      <td>0</td>\n",
       "      <td>...</td>\n",
       "      <td>0.0</td>\n",
       "      <td>0.0</td>\n",
       "      <td>0.0</td>\n",
       "      <td>0.0</td>\n",
       "      <td>0.0</td>\n",
       "      <td>0.0</td>\n",
       "      <td>0.0</td>\n",
       "      <td>0.0</td>\n",
       "      <td>0.0</td>\n",
       "      <td>0.0</td>\n",
       "    </tr>\n",
       "    <tr>\n",
       "      <th>1</th>\n",
       "      <td>0</td>\n",
       "      <td>0</td>\n",
       "      <td>0</td>\n",
       "      <td>0</td>\n",
       "      <td>0</td>\n",
       "      <td>0</td>\n",
       "      <td>0</td>\n",
       "      <td>0</td>\n",
       "      <td>0</td>\n",
       "      <td>0</td>\n",
       "      <td>...</td>\n",
       "      <td>0.0</td>\n",
       "      <td>0.0</td>\n",
       "      <td>0.0</td>\n",
       "      <td>0.0</td>\n",
       "      <td>0.0</td>\n",
       "      <td>0.0</td>\n",
       "      <td>0.0</td>\n",
       "      <td>0.0</td>\n",
       "      <td>0.0</td>\n",
       "      <td>0.0</td>\n",
       "    </tr>\n",
       "    <tr>\n",
       "      <th>2</th>\n",
       "      <td>4</td>\n",
       "      <td>0</td>\n",
       "      <td>0</td>\n",
       "      <td>0</td>\n",
       "      <td>0</td>\n",
       "      <td>0</td>\n",
       "      <td>0</td>\n",
       "      <td>0</td>\n",
       "      <td>0</td>\n",
       "      <td>0</td>\n",
       "      <td>...</td>\n",
       "      <td>0.0</td>\n",
       "      <td>0.0</td>\n",
       "      <td>0.0</td>\n",
       "      <td>0.0</td>\n",
       "      <td>0.0</td>\n",
       "      <td>0.0</td>\n",
       "      <td>0.0</td>\n",
       "      <td>0.0</td>\n",
       "      <td>0.0</td>\n",
       "      <td>0.0</td>\n",
       "    </tr>\n",
       "    <tr>\n",
       "      <th>3</th>\n",
       "      <td>1</td>\n",
       "      <td>0</td>\n",
       "      <td>0</td>\n",
       "      <td>0</td>\n",
       "      <td>0</td>\n",
       "      <td>0</td>\n",
       "      <td>0</td>\n",
       "      <td>0</td>\n",
       "      <td>0</td>\n",
       "      <td>0</td>\n",
       "      <td>...</td>\n",
       "      <td>0.0</td>\n",
       "      <td>0.0</td>\n",
       "      <td>0.0</td>\n",
       "      <td>0.0</td>\n",
       "      <td>0.0</td>\n",
       "      <td>0.0</td>\n",
       "      <td>0.0</td>\n",
       "      <td>0.0</td>\n",
       "      <td>0.0</td>\n",
       "      <td>0.0</td>\n",
       "    </tr>\n",
       "    <tr>\n",
       "      <th>4</th>\n",
       "      <td>9</td>\n",
       "      <td>0</td>\n",
       "      <td>0</td>\n",
       "      <td>0</td>\n",
       "      <td>0</td>\n",
       "      <td>0</td>\n",
       "      <td>0</td>\n",
       "      <td>0</td>\n",
       "      <td>0</td>\n",
       "      <td>0</td>\n",
       "      <td>...</td>\n",
       "      <td>0.0</td>\n",
       "      <td>0.0</td>\n",
       "      <td>0.0</td>\n",
       "      <td>0.0</td>\n",
       "      <td>0.0</td>\n",
       "      <td>0.0</td>\n",
       "      <td>0.0</td>\n",
       "      <td>0.0</td>\n",
       "      <td>0.0</td>\n",
       "      <td>0.0</td>\n",
       "    </tr>\n",
       "  </tbody>\n",
       "</table>\n",
       "<p>5 rows × 5626 columns</p>\n",
       "</div>"
      ],
      "text/plain": [
       "   label  px1  px2  px3  px4  px5  px6  px7  px8  px9  ...  4831  4832  4833  \\\n",
       "0      5    0    0    0    0    0    0    0    0    0  ...   0.0   0.0   0.0   \n",
       "1      0    0    0    0    0    0    0    0    0    0  ...   0.0   0.0   0.0   \n",
       "2      4    0    0    0    0    0    0    0    0    0  ...   0.0   0.0   0.0   \n",
       "3      1    0    0    0    0    0    0    0    0    0  ...   0.0   0.0   0.0   \n",
       "4      9    0    0    0    0    0    0    0    0    0  ...   0.0   0.0   0.0   \n",
       "\n",
       "   4834  4835  4836  4837  4838  4839  4840  \n",
       "0   0.0   0.0   0.0   0.0   0.0   0.0   0.0  \n",
       "1   0.0   0.0   0.0   0.0   0.0   0.0   0.0  \n",
       "2   0.0   0.0   0.0   0.0   0.0   0.0   0.0  \n",
       "3   0.0   0.0   0.0   0.0   0.0   0.0   0.0  \n",
       "4   0.0   0.0   0.0   0.0   0.0   0.0   0.0  \n",
       "\n",
       "[5 rows x 5626 columns]"
      ]
     },
     "execution_count": 7,
     "metadata": {},
     "output_type": "execute_result"
    }
   ],
   "source": [
    "print(x_train.shape)\n",
    "a = pd.concat((x_train,pd.DataFrame(np.zeros((60000,4841)))) ,axis=1)\n",
    "print(a.shape)\n",
    "# np.concatenate((temp[0],np.zeros(4841)), axis=0)\n",
    "a.head()"
   ]
  },
  {
   "cell_type": "code",
   "execution_count": 8,
   "id": "ae5ff8b3",
   "metadata": {},
   "outputs": [
    {
     "ename": "ValueError",
     "evalue": "cannot reshape array of size 337560000 into shape (75,75)",
     "output_type": "error",
     "traceback": [
      "\u001b[1;31m---------------------------------------------------------------------------\u001b[0m",
      "\u001b[1;31mValueError\u001b[0m                                Traceback (most recent call last)",
      "\u001b[1;32m~\\AppData\\Local\\Temp/ipykernel_10824/1286464380.py\u001b[0m in \u001b[0;36m<module>\u001b[1;34m\u001b[0m\n\u001b[1;32m----> 1\u001b[1;33m \u001b[0ma\u001b[0m \u001b[1;33m=\u001b[0m \u001b[0ma\u001b[0m\u001b[1;33m.\u001b[0m\u001b[0mto_numpy\u001b[0m\u001b[1;33m(\u001b[0m\u001b[1;33m)\u001b[0m\u001b[1;33m.\u001b[0m\u001b[0mreshape\u001b[0m\u001b[1;33m(\u001b[0m\u001b[1;33m-\u001b[0m\u001b[1;36m1\u001b[0m\u001b[1;33m,\u001b[0m\u001b[1;36m75\u001b[0m\u001b[1;33m,\u001b[0m\u001b[1;36m75\u001b[0m\u001b[1;33m)\u001b[0m\u001b[1;33m\u001b[0m\u001b[1;33m\u001b[0m\u001b[0m\n\u001b[0m\u001b[0;32m      2\u001b[0m \u001b[0ma\u001b[0m\u001b[1;33m.\u001b[0m\u001b[0mshape\u001b[0m\u001b[1;33m\u001b[0m\u001b[1;33m\u001b[0m\u001b[0m\n",
      "\u001b[1;31mValueError\u001b[0m: cannot reshape array of size 337560000 into shape (75,75)"
     ]
    }
   ],
   "source": [
    "a = a.to_numpy().reshape(-1,75,75)\n",
    "a.shape"
   ]
  },
  {
   "cell_type": "code",
   "execution_count": null,
   "id": "37838788",
   "metadata": {},
   "outputs": [],
   "source": [
    "from tensorflow.keras import layers\n",
    "from tensorflow.keras.models import Model, Sequential\n",
    "from tensorflow.keras.applications import ResNet50"
   ]
  },
  {
   "cell_type": "code",
   "execution_count": null,
   "id": "007b72ee",
   "metadata": {},
   "outputs": [],
   "source": [
    "base_model = ResNet50(include_top = False, weights = 'imagenet', input_shape=(32,32,3))\n",
    "base_model.trainable = False # 가중치 동결 : 사전학습된 가중치를 손상시키지 않기 위해서\n",
    "inputs = Input(shape = (32,32,3))\n",
    "x = tf.keras.layers.experimental.preprocessing.Resizeing(32,32)(inputs)\n",
    "x = tf.keras.applications.resnet50.preprocess_input(inputs)\n",
    "x = base_model(x, training = False)\n",
    "x = Flatten()(x)\n",
    "outputs = Dense(10,activation = 'softmax')(x)\n",
    "model_res = tf.keras.Model(inputs,outputs)"
   ]
  },
  {
   "cell_type": "code",
   "execution_count": null,
   "id": "8b97d2eb",
   "metadata": {},
   "outputs": [],
   "source": [
    "model_res.compile(loss = tf.keras.losses.sparse_categorical_crossentropy,\n",
    "                  optimizer = 'adam', metrics=['accuracy'])\n",
    "earlyStoping = tf.keras.callbacks.EarlyStopping(patience=5)"
   ]
  },
  {
   "cell_type": "code",
   "execution_count": 5,
   "id": "a522d607",
   "metadata": {},
   "outputs": [
    {
     "ename": "AttributeError",
     "evalue": "'DataFrame' object has no attribute 'reshape'",
     "output_type": "error",
     "traceback": [
      "\u001b[1;31m---------------------------------------------------------------------------\u001b[0m",
      "\u001b[1;31mAttributeError\u001b[0m                            Traceback (most recent call last)",
      "\u001b[1;32m~\\AppData\\Local\\Temp/ipykernel_10824/4217017282.py\u001b[0m in \u001b[0;36m<module>\u001b[1;34m\u001b[0m\n\u001b[1;32m----> 1\u001b[1;33m \u001b[0ma_train\u001b[0m \u001b[1;33m=\u001b[0m \u001b[0ma\u001b[0m\u001b[1;33m.\u001b[0m\u001b[0mreshape\u001b[0m\u001b[1;33m(\u001b[0m\u001b[1;33m-\u001b[0m\u001b[1;36m1\u001b[0m\u001b[1;33m,\u001b[0m\u001b[1;36m32\u001b[0m\u001b[1;33m,\u001b[0m\u001b[1;36m32\u001b[0m\u001b[1;33m,\u001b[0m\u001b[1;36m3\u001b[0m\u001b[1;33m)\u001b[0m\u001b[1;33m\u001b[0m\u001b[1;33m\u001b[0m\u001b[0m\n\u001b[0m",
      "\u001b[1;32mC:\\ProgramData\\Anaconda3\\lib\\site-packages\\pandas\\core\\generic.py\u001b[0m in \u001b[0;36m__getattr__\u001b[1;34m(self, name)\u001b[0m\n\u001b[0;32m   5485\u001b[0m         ):\n\u001b[0;32m   5486\u001b[0m             \u001b[1;32mreturn\u001b[0m \u001b[0mself\u001b[0m\u001b[1;33m[\u001b[0m\u001b[0mname\u001b[0m\u001b[1;33m]\u001b[0m\u001b[1;33m\u001b[0m\u001b[1;33m\u001b[0m\u001b[0m\n\u001b[1;32m-> 5487\u001b[1;33m         \u001b[1;32mreturn\u001b[0m \u001b[0mobject\u001b[0m\u001b[1;33m.\u001b[0m\u001b[0m__getattribute__\u001b[0m\u001b[1;33m(\u001b[0m\u001b[0mself\u001b[0m\u001b[1;33m,\u001b[0m \u001b[0mname\u001b[0m\u001b[1;33m)\u001b[0m\u001b[1;33m\u001b[0m\u001b[1;33m\u001b[0m\u001b[0m\n\u001b[0m\u001b[0;32m   5488\u001b[0m \u001b[1;33m\u001b[0m\u001b[0m\n\u001b[0;32m   5489\u001b[0m     \u001b[1;32mdef\u001b[0m \u001b[0m__setattr__\u001b[0m\u001b[1;33m(\u001b[0m\u001b[0mself\u001b[0m\u001b[1;33m,\u001b[0m \u001b[0mname\u001b[0m\u001b[1;33m:\u001b[0m \u001b[0mstr\u001b[0m\u001b[1;33m,\u001b[0m \u001b[0mvalue\u001b[0m\u001b[1;33m)\u001b[0m \u001b[1;33m->\u001b[0m \u001b[1;32mNone\u001b[0m\u001b[1;33m:\u001b[0m\u001b[1;33m\u001b[0m\u001b[1;33m\u001b[0m\u001b[0m\n",
      "\u001b[1;31mAttributeError\u001b[0m: 'DataFrame' object has no attribute 'reshape'"
     ]
    }
   ],
   "source": [
    "a_train = a.reshape(-1,32,32,3)"
   ]
  },
  {
   "cell_type": "code",
   "execution_count": null,
   "id": "948c9d19",
   "metadata": {},
   "outputs": [],
   "source": [
    "x_train,x_test,y_train,y_test = train_teset_split(a,y_train.random_state=32)"
   ]
  },
  {
   "cell_type": "code",
   "execution_count": null,
   "id": "83976ddf",
   "metadata": {},
   "outputs": [],
   "source": [
    "x_train_re = x_train.reshape(-1,32,32,3)"
   ]
  },
  {
   "cell_type": "code",
   "execution_count": null,
   "id": "f827d27c",
   "metadata": {},
   "outputs": [],
   "source": [
    "model_res.fit(a_train,y_train,epochs=200,validation)"
   ]
  },
  {
   "cell_type": "code",
   "execution_count": null,
   "id": "d98c9cd4",
   "metadata": {},
   "outputs": [],
   "source": []
  },
  {
   "cell_type": "code",
   "execution_count": null,
   "id": "fd1ea9e8",
   "metadata": {},
   "outputs": [],
   "source": []
  }
 ],
 "metadata": {
  "accelerator": "GPU",
  "colab": {
   "collapsed_sections": [],
   "provenance": []
  },
  "gpuClass": "standard",
  "kernelspec": {
   "display_name": "Python 3 (ipykernel)",
   "language": "python",
   "name": "python3"
  },
  "language_info": {
   "codemirror_mode": {
    "name": "ipython",
    "version": 3
   },
   "file_extension": ".py",
   "mimetype": "text/x-python",
   "name": "python",
   "nbconvert_exporter": "python",
   "pygments_lexer": "ipython3",
   "version": "3.9.7"
  }
 },
 "nbformat": 4,
 "nbformat_minor": 5
}
